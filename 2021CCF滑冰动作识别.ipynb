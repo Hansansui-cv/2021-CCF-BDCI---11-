{
 "cells": [
  {
   "cell_type": "markdown",
   "metadata": {
    "collapsed": false
   },
   "source": [
    "# 一、方案思路：\n",
    "\n",
    "## 1.1 超参数调优：\n",
    "&#8195; &#8195; <font size=3>通过控制变量的手段，调整MIX UP、WINDOWS SIZE、preciseBN的参数、loss的选择和参数设置：</font>\n",
    "\n",
    "\n",
    "&#8195; &#8195;&#8195; &#8195;<img src=https://ai-studio-static-online.cdn.bcebos.com/c47ea686c38b4ff795c90618e3f25b7c1ae583725e294c529e92d0bf61024bb4 width = \"415\" height = \"400\" div align=center />\n",
    "\n",
    "&#8195; &#8195; <font size=3>最终确定为以下参数：</font>\n",
    "\n",
    "&#8195; &#8195; &#8195; &#8195;<img src=https://ai-studio-static-online.cdn.bcebos.com/8a00fb74fe284c1592a933c56274af72ae085da3a98a4eabb698e6f5ceab1073 width = 50% height = 50% div align=center />\n",
    "\n",
    "## 1.2 REFINEDMODEL：\n",
    "\n",
    "&#8195; &#8195; <font size=3> 通过大量实验之后，我对AGCN、STGCN模型做出了一些修改：在AGCN与STGCN上均在GCN之后加上了一个模块，实验结果也证明这个模块对预测准确度的提高是有益的。单个REFINEDAGCN模型在A榜测试上达到66.08的准确率。</font>\n",
    "\n",
    "###  1.2.1 REFINEDAGCN：\n",
    "\n",
    "&#8195; &#8195; <font size=3> 修改的模块如下图所示 </font>\n",
    "\n",
    "&#8195; &#8195; &#8195; &#8195;&#8195; &#8195; &#8195; &#8195;<img src=https://ai-studio-static-online.cdn.bcebos.com/2d615b79979945b4b2d81f69d5b660dace69e4d28708400abc779a70cef79fa3 width = 60% height = 60% div align=center />\n",
    "\n",
    "&#8195; &#8195; <font size=3> 将上图所示的模块加入到每个由GCN-TCN组成的Block中，最终构成REFINEDAGCN模型。 </font>\n",
    "\n",
    "###  1.2.2 REFINEDSTGCN：\n",
    "\n",
    "&#8195; &#8195; <font size=3> STGCN模型的修改方式与AGCN模型的修改方式保持一致，由此构成了REFINEDSTGCN模型。</font>\n",
    "\n",
    "###  1.2.3 CTRGCN：\n",
    "\n",
    "&#8195; &#8195; <font size=3>通过参考CTRGCN原文与源码及别人复现的CTRGCN模型完成CTRGCN-paddle模型复现。</font>\n",
    "\n",
    "&#8195; &#8195; &#8195; &#8195;&#8195; &#8195; &#8195; &#8195;<img src=https://ai-studio-static-online.cdn.bcebos.com/da9ae67b8b8f48129b39a500e7ee7a46382e01cd28e842f39d4212fa6bd98d8c width = 60% height = 60% div align=center />\n",
    "\n",
    "&#8195; &#8195; &#8195; &#8195;&#8195; &#8195; &#8195; &#8195;<img src=https://ai-studio-static-online.cdn.bcebos.com/a53f199ec5f44888b7d936e072340add9d3f058d05cb413cbcd4a0c2b5e63793 width = 60% height = 60% div align=center />\n",
    "\n",
    "\n",
    "&#8195; &#8195; &#8195; &#8195; [CTRGCN原文](https://arxiv.org/abs/2107.12213)\n",
    "&#8195; &#8195; &#8195; &#8195; [CTRGCN源码](https://github.com/Uason-Chen/CTR-GCN.git)\n",
    "&#8195; &#8195; &#8195; &#8195; [CTRGCN模型](https://github.com/universea/CTR-GCN.git)\n",
    "\n",
    "\n",
    "## 1.3 数据处理：\n",
    "\n",
    "&#8195; &#8195; <font size=3>分别把训练数据集测试数据集转换成bone、joint_motion、bone_motion的形式，并保存为.npy格式，用于模型训练和预测。</font>\n",
    "\n",
    "## 1.4 测试推理：\n",
    "\n",
    "&#8195; &#8195; <font size=3>集成学习，多个模型共同预测结果。如下图所示：</font>\n",
    "\n",
    "&#8195; &#8195;<font size=4>**为方便结果复现，我已经将训练好的模型上传至AI Studio，可以跳过模型训练直接进行模型测试。**</font>\n",
    "\n",
    "&#8195; &#8195; &#8195; &#8195;&#8195; &#8195; &#8195; &#8195;<img src=https://ai-studio-static-online.cdn.bcebos.com/c922304805fe4b499c57f978ac043d4505016e2897fc46c9a2681f7642f2abf9 width = 60% height = 60% div align=center />\n",
    "\n",
    "## TODO：\n",
    "### 方案复现中发现的问题：\n",
    "\n",
    "&#8195; &#8195; <font size=3>在方案复现的过程中，发现训练CTRGCN时把骨骼点间的关系搞错了，没有使用该数据集格式正确的骨骼点间的关系，可能影响了最终的预测结果。</font>\n",
    "\n",
    "&#8195; &#8195; <font size=3>希望有机会再尝试吧。</font>"
   ]
  },
  {
   "cell_type": "markdown",
   "metadata": {
    "collapsed": false
   },
   "source": [
    "# 二、模型训练：\n"
   ]
  },
  {
   "cell_type": "markdown",
   "metadata": {
    "collapsed": false
   },
   "source": [
    "## Note：\n",
    "&#8195; &#8195; <font size=4> ①模型代码我已经加进了PaddleVideo中，并压缩上传AI Studio。 </font>\n",
    "\n",
    "&#8195; &#8195; <font size=4> ②为方便复现结果，训练好的模型我也已经上传至AI Studio。</font>"
   ]
  },
  {
   "cell_type": "markdown",
   "metadata": {
    "collapsed": false
   },
   "source": [
    "<font size=4>Step 1、解压代码和模型文件：</font>"
   ]
  },
  {
   "cell_type": "code",
   "execution_count": 10,
   "metadata": {
    "collapsed": false
   },
   "outputs": [],
   "source": [
    "%cd /home/aistudio/work/\r\n",
    "!unzip -oq /home/aistudio/data/data118095/PaddleVideo.zip\r\n",
    "%cd /home/aistudio/work/PaddleVideo\r\n",
    "!unzip -oq /home/aistudio/data/data118094/model.zip"
   ]
  },
  {
   "cell_type": "markdown",
   "metadata": {
    "collapsed": false
   },
   "source": [
    "<font size=4>Step 2、数据预处理：</font>"
   ]
  },
  {
   "cell_type": "code",
   "execution_count": null,
   "metadata": {
    "collapsed": false
   },
   "outputs": [],
   "source": [
    "%cd /home/aistudio/work/PaddleVideo/data/\r\n",
    "!python3 Gen_data.py"
   ]
  },
  {
   "cell_type": "markdown",
   "metadata": {
    "collapsed": false
   },
   "source": [
    "<font size=4>Step 3、分别训练模型：</font>"
   ]
  },
  {
   "cell_type": "code",
   "execution_count": null,
   "metadata": {
    "collapsed": false
   },
   "outputs": [],
   "source": [
    "%cd /home/aistudio/work/PaddleVideo/\r\n",
    "!python3.7 -m pip install --upgrade pip\r\n",
    "!python3.7 -m pip install --upgrade -r requirements.txt"
   ]
  },
  {
   "cell_type": "markdown",
   "metadata": {
    "collapsed": false
   },
   "source": [
    "<font size=3>REFINEDAGCN模型训练：</font>"
   ]
  },
  {
   "cell_type": "code",
   "execution_count": null,
   "metadata": {
    "collapsed": false
   },
   "outputs": [],
   "source": [
    "%cd /home/aistudio/work/PaddleVideo/\r\n",
    "!python3.7 main.py -c configs/recognition/agcn/refined_agcn_joint.yaml\r\n",
    "\r\n",
    "!python3.7 main.py -c configs/recognition/agcn/refined_agcn_bone.yaml\r\n",
    "\r\n",
    "!python3.7 main.py -c configs/recognition/agcn/refined_agcn_bone_motion.yaml\r\n",
    "\r\n",
    "!python3.7 main.py -c configs/recognition/agcn/refined_agcn_joint_motion.yaml"
   ]
  },
  {
   "cell_type": "markdown",
   "metadata": {
    "collapsed": false
   },
   "source": [
    "<font size=3>REFINEDSTGCN模型训练：</font>"
   ]
  },
  {
   "cell_type": "code",
   "execution_count": null,
   "metadata": {
    "collapsed": false
   },
   "outputs": [],
   "source": [
    "%cd /home/aistudio/work/PaddleVideo/\r\n",
    "!python3.7 main.py -c configs/recognition/stgcn/refined_stgcn_bone_motion.yaml\r\n",
    "\r\n",
    "!python3.7 main.py -c configs/recognition/stgcn/refined_stgcn_joint.yaml\r\n",
    "\r\n",
    "!python3.7 main.py -c configs/recognition/stgcn/refined_stgcn_bone.yaml\r\n",
    "\r\n",
    "!python3.7 main.py -c configs/recognition/stgcn/refined_stgcn_joint_motion.yaml"
   ]
  },
  {
   "cell_type": "markdown",
   "metadata": {
    "collapsed": false
   },
   "source": [
    "<font size=3>CTRGCN模型训练：</font>"
   ]
  },
  {
   "cell_type": "code",
   "execution_count": null,
   "metadata": {
    "collapsed": false
   },
   "outputs": [],
   "source": [
    "%cd /home/aistudio/work/PaddleVideo/\r\n",
    "\r\n",
    "!python3.7 main.py -c configs/recognition/ctrgcn.yaml"
   ]
  },
  {
   "cell_type": "markdown",
   "metadata": {
    "collapsed": false
   },
   "source": [
    "# 三、模型测试："
   ]
  },
  {
   "cell_type": "markdown",
   "metadata": {
    "collapsed": false
   },
   "source": [
    "<font size=4>1、直接使用我训练好的模型进行测试：</font>"
   ]
  },
  {
   "cell_type": "code",
   "execution_count": null,
   "metadata": {
    "collapsed": false
   },
   "outputs": [],
   "source": [
    "%cd /home/aistudio/work/PaddleVideo/\r\n",
    "!python3.7 main.py --test -c configs/recognition/ctrgcn.yaml -w model/CTRGCN_epoch_00061.pdparams\r\n",
    "\r\n",
    "!python3.7 main.py --test -c configs/recognition/agcn/refined_agcn_joint.yaml -w model/AGCN_100_╩╡╤щ23_SASA_jointdata.pdparams\r\n",
    "\r\n",
    "!python3.7 main.py --test -c configs/recognition/agcn/refined_agcn_bone.yaml -w model/AGCN_100_╩╡╤щ23_SATA_bonedata.pdparams\r\n",
    "\r\n",
    "!python3.7 main.py --test -c configs/recognition/agcn/refined_agcn_joint_motion.yaml -w model/AGCNJOINTMOTION_epoch_00100.pdparams\r\n",
    "\r\n",
    "!python3.7 main.py --test -c configs/recognition/agcn/refined_agcn_bone_motion.yaml -w model/AGCNBONEMOTION_epoch_00100.pdparams\r\n",
    "\r\n",
    "!python3.7 main.py --test -c configs/recognition/stgcn/refined_stgcn_bone.yaml -w model/STGCNBONE_epoch_00100.pdparams\r\n",
    "\r\n",
    "!python3.7 main.py --test -c configs/recognition/stgcn/refined_stgcn_bone_motion.yaml -w model/STGCNBONEMOTION_epoch_00100.pdparams\r\n",
    "\r\n",
    "!python3.7 main.py --test -c configs/recognition/stgcn/refined_stgcn_joint.yaml -w model/STGCNJOINT_epoch_00100.pdparams\r\n",
    "\r\n",
    "!python3.7 main.py --test -c configs/recognition/stgcn/refined_stgcn_joint_motion.yaml -w model/STGCNJOINTMOTION_epoch_00100.pdparams"
   ]
  },
  {
   "cell_type": "code",
   "execution_count": 9,
   "metadata": {
    "collapsed": false
   },
   "outputs": [],
   "source": [
    "%cd /home/aistudio/work/PaddleVideo/submission_pro/\r\n",
    "!python Merger.py\r\n",
    "#最后生成的文件submissionB_Fianl.csv用于提交"
   ]
  },
  {
   "cell_type": "markdown",
   "metadata": {
    "collapsed": false
   },
   "source": [
    "<font size=4>2、使用新训练好的模型进行测试：</font>"
   ]
  },
  {
   "cell_type": "code",
   "execution_count": null,
   "metadata": {
    "collapsed": false
   },
   "outputs": [],
   "source": [
    "%cd /home/aistudio/work/PaddleVideo/\r\n",
    "!python3.7 main.py --test -c configs/recognition/ctrgcn.yaml -w model/CTRGCN_epoch_00061.pdparams\r\n",
    "\r\n",
    "!python3.7 main.py --test -c configs/recognition/agcn/refined_agcn_joint.yaml -w output/AGCNJOINT/AGCNJOINT_epoch_00100.pdparams\r\n",
    "\r\n",
    "!python3.7 main.py --test -c configs/recognition/agcn/refined_agcn_bone.yaml -w output/AGCNBONE/AGCNBONE_epoch_00100.pdparams\r\n",
    "\r\n",
    "!python3.7 main.py --test -c configs/recognition/agcn/refined_agcn_joint_motion.yaml -w output/AGCNJOINTMOTION/AGCNJOINTMOTION_epoch_00100.pdparams\r\n",
    "\r\n",
    "!python3.7 main.py --test -c configs/recognition/agcn/refined_agcn_bone_motion.yaml -w output/AGCNBONEMOTION/AGCNBONEMOTION_epoch_00100.pdparams\r\n",
    "\r\n",
    "!python3.7 main.py --test -c configs/recognition/stgcn/refined_stgcn_bone.yaml -w output/STGCNBONE/STGCNBONE_epoch_00100.pdparams\r\n",
    "\r\n",
    "!python3.7 main.py --test -c configs/recognition/stgcn/refined_stgcn_bone_motion.yaml -w output/STGCNBONEMOTION/STGCNBONEMOTION_epoch_00100.pdparams\r\n",
    "\r\n",
    "!python3.7 main.py --test -c configs/recognition/stgcn/refined_stgcn_joint.yaml -w output/STGCNJOINT/STGCNJOINT_epoch_00100.pdparams\r\n",
    "\r\n",
    "!python3.7 main.py --test -c configs/recognition/stgcn/refined_stgcn_joint_motion.yaml -w output/STGCNJOINTMOTION/STGCNBONE_epoch_00100.pdparams"
   ]
  },
  {
   "cell_type": "code",
   "execution_count": null,
   "metadata": {
    "collapsed": false
   },
   "outputs": [],
   "source": [
    "%cd /home/aistudio/work/PaddleVideo/submission_pro/\r\n",
    "!python Merger.py\r\n",
    "#最后生成的文件submissionB_Fianl.csv用于提交"
   ]
  }
 ],
 "metadata": {
  "kernelspec": {
   "display_name": "Python 3",
   "language": "python",
   "name": "py35-paddle1.2.0"
  },
  "language_info": {
   "codemirror_mode": {
    "name": "ipython",
    "version": 3
   },
   "file_extension": ".py",
   "mimetype": "text/x-python",
   "name": "python",
   "nbconvert_exporter": "python",
   "pygments_lexer": "ipython3",
   "version": "3.7.4"
  }
 },
 "nbformat": 4,
 "nbformat_minor": 1
}
